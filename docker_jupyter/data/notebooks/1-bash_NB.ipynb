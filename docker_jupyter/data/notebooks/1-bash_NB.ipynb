{
 "cells": [
  {
   "cell_type": "markdown",
   "metadata": {},
   "source": [
    "# Data analysis following Galaxy epigenomics pipeline\n",
    "\n",
    "On these notebooks, the output produced after running the two ChIP-Seq and the RNA-Seq workflows are processed to both continue the analysis and produce some figures and tables. Here are processed:\n",
    "* ChIP-Seq\n",
    "   * peak files\n",
    "   * bam alignments\n",
    "* RNA-Seq\n",
    "   * gene counts\n",
    "   * differential expression results\n",
    "\n",
    "In this first notebook, ChIP-Seq data analysis is finished with the comparison of samples with MAnorm, followed by steps aimed at data visualization."
   ]
  },
  {
   "cell_type": "code",
   "execution_count": 1,
   "metadata": {},
   "outputs": [],
   "source": [
    "## setup working directory\n",
    "jup_wd=~/work/jupyter-res\n",
    "gal_wd=~/work/galaxy-res\n",
    "\n",
    "[ ! -d ${jup_wd} ] && mkdir -p ${jup_wd}/figures\n",
    "cd ${jup_wd}"
   ]
  },
  {
   "cell_type": "markdown",
   "metadata": {},
   "source": [
    "## 1- Analysis of differentially marked regions\n",
    "\n",
    "After the analysis of ChIP-Seq data from two samples, run on Galaxy worflows 1 and 2, the levels of ChIP-Seq reads on marked regions are compared. To achieve this, called peaks from both samples are compared to obtain a common set of peaks by MAnorm, which then calculates the normalized read density on these common regions to estimate the differences between samples. \n",
    "\n",
    "The data used on MAnorm were peaks called by epic2 with over 1 log2 fold change ChIP over INPUT signal, as a naive method to remove noise, and alignments with filtered low quality reads but keeping duplicates. To remove the epic2 log2FC filter, set `min_pk_fc=0`. Thus, the steps followed are:\n",
    "* Filter epic2 peaks\n",
    "* Run MAnorm"
   ]
  },
  {
   "cell_type": "code",
   "execution_count": 2,
   "metadata": {},
   "outputs": [],
   "source": [
    "peak_caller=epic2\n",
    "min_pk_fc=1"
   ]
  },
  {
   "cell_type": "markdown",
   "metadata": {},
   "source": [
    "### Gather files\n",
    "Galaxy exports several files to a results directory. For the next steps, bed and bam files are used."
   ]
  },
  {
   "cell_type": "code",
   "execution_count": 3,
   "metadata": {},
   "outputs": [],
   "source": [
    "## find input files on system\n",
    "bed_01=($(ls ${gal_wd}/chipseq1/*bed | grep -i \"${peak_caller}\"))\n",
    "bed_02=($(ls ${gal_wd}/chipseq2/*bed | grep -i \"${peak_caller}\"))\n",
    "\n",
    "bam_1=($(ls ${gal_wd}/chipseq1/bam_files/*merged.bam* | grep -i chip))\n",
    "inp_1=($(ls ${gal_wd}/chipseq1/bam_files/*merged.bam* | grep -i input))\n",
    "\n",
    "bam_2=($(ls ${gal_wd}/chipseq2/bam_files/*merged.bam* | grep -i chip))\n",
    "inp_2=($(ls ${gal_wd}/chipseq2/bam_files/*merged.bam* | grep -i input))"
   ]
  },
  {
   "cell_type": "markdown",
   "metadata": {},
   "source": [
    "### Filter peak calling results\n",
    "First, the remaining largest peaks after filtering by log2FC (from epic2, ChIP vs INPUT) are indicated for their visualization and evaluation on IGV."
   ]
  },
  {
   "cell_type": "code",
   "execution_count": 4,
   "metadata": {},
   "outputs": [
    {
     "name": "stdout",
     "output_type": "stream",
     "text": [
      "island_37\t21800\tchr1\t342200\t363999\n",
      "island_46\t13800\tchr1\t474800\t488599\n",
      "island_25\t8600\tchr1\t179800\t188399\n",
      "island_14\t8200\tchr1\t116200\t124399\n",
      "island_49\t7800\tchr1\t507600\t515399\n"
     ]
    }
   ],
   "source": [
    "# sample1\n",
    "awk -v fc=$min_pk_fc '$7>fc{print $4,$3-$2+1,$1,$2,$3}' OFS='\\t' \\\n",
    "   <(sort $bed_01) | sort -k2rn 2>/dev/null | head -5"
   ]
  },
  {
   "cell_type": "code",
   "execution_count": 5,
   "metadata": {},
   "outputs": [
    {
     "name": "stdout",
     "output_type": "stream",
     "text": [
      "island_37\t21000\tchr1\t343000\t363999\n",
      "island_47\t11200\tchr1\t476800\t487999\n",
      "island_27\t9400\tchr1\t179800\t189199\n",
      "island_91\t8000\tchr1\t953200\t961199\n",
      "island_51\t7400\tchr1\t507600\t514999\n"
     ]
    }
   ],
   "source": [
    "# sample2\n",
    "awk -v fc=$min_pk_fc '$7>fc{print $4,$3-$2+1,$1,$2,$3}' OFS='\\t' \\\n",
    "   <(sort $bed_02) | sort -k2rn 2>/dev/null | head -5"
   ]
  },
  {
   "cell_type": "markdown",
   "metadata": {},
   "source": [
    "Noisy peaks may also be removed when filtering for fold-change. Here no additional filtering is performed."
   ]
  },
  {
   "cell_type": "code",
   "execution_count": 6,
   "metadata": {},
   "outputs": [],
   "source": [
    "# prepare new names, remove galaxy history number, add FC\n",
    "bed_1=$(echo \"${bed_01}\" | sed \"s;/[0-9]\\+_\\(${peak_caller}.\\+\\).bed;/\\1_FCgt${min_pk_fc}.bed;\")\n",
    "bed_2=$(echo \"${bed_02}\" | sed \"s;/[0-9]\\+_\\(${peak_caller}.\\+\\).bed;/\\1_FCgt${min_pk_fc}.bed;\")\n",
    "\n",
    "# print peaks that pass the log2FC threshold\n",
    "awk -v fc=$min_pk_fc '$7>fc{print $0}' OFS='\\t' \\\n",
    "   <(sort $bed_01) > ${bed_1}\n",
    "awk -v fc=$min_pk_fc '$7>fc{print $0}' OFS='\\t' \\\n",
    "   <(sort $bed_02) > ${bed_2}"
   ]
  },
  {
   "cell_type": "code",
   "execution_count": 7,
   "metadata": {},
   "outputs": [
    {
     "name": "stdout",
     "output_type": "stream",
     "text": [
      "90 /home/jovyan/work/galaxy-res/chipseq1/251_epic2_peaks1.bed\n",
      "63 /home/jovyan/work/galaxy-res/chipseq1/epic2_peaks1_FCgt1.bed\n",
      "93 /home/jovyan/work/galaxy-res/chipseq2/249_epic2_peaks2.bed\n",
      "53 /home/jovyan/work/galaxy-res/chipseq2/epic2_peaks2_FCgt1.bed\n"
     ]
    }
   ],
   "source": [
    "# number of peaks before and after filtering\n",
    "for bed in $bed_01 $bed_1 $bed_02 $bed_2\n",
    "do\n",
    "    wc -l $bed\n",
    "done"
   ]
  },
  {
   "cell_type": "markdown",
   "metadata": {},
   "source": [
    "### Differential binding: MAnorm \n",
    "The normalized read density on selected peaks was compared between the two samples. MAnorm compares the read density of peaks on a M-A plot to determine differentially marked regions. "
   ]
  },
  {
   "cell_type": "code",
   "execution_count": 8,
   "metadata": {},
   "outputs": [
    {
     "name": "stdout",
     "output_type": "stream",
     "text": [
      "69 combined peaks analyzed by MAnorm\n",
      "# peaks\tM>0\tM>0.1\tM>0.25\tM>0.5\tM>1\n",
      "total\t69\t55\t42\t23\t5\n",
      "M > 0\t42\t36\t29\t16\t3\n",
      "M < 0\t27\t19\t13\t7\t2\n"
     ]
    }
   ],
   "source": [
    "# setup\n",
    "cd ${jup_wd}\n",
    "sample_1=1\n",
    "sample_2=2\n",
    "manorm_dir=manorm-\"$sample_1\"vs\"$sample_2\"\n",
    "\n",
    "# if manorm dir exists, delete to avoid issues\n",
    "[ -d ${manorm_dir} ] && rm -r ${manorm_dir}\n",
    "\n",
    "# run manorm\n",
    "manorm \\\n",
    "--peak1 \"$bed_1\" \\\n",
    "--peak2 \"$bed_2\" \\\n",
    "--peak-format bed \\\n",
    "--read1 \"$bam_1\" \\\n",
    "--read2 \"$bam_2\" \\\n",
    "--read-format bam \\\n",
    "--name1 \"$sample_1\" \\\n",
    "--name2 \"$sample_2\" \\\n",
    "--paired-end \\\n",
    "-o \"$manorm_dir\" \\\n",
    "2> manorm.log\n",
    "\n",
    "# add number of peaks passing each value to log\n",
    "echo -e \"\\n# peaks\\tM>0\\tM>0.1\\tM>0.25\\tM>0.5\\tM>1\" >> manorm.log\n",
    "awk -F '\\t' 'NR>1{m_val=sqrt($5^2); if(m_val>0){a++;} if(m_val>.1){b++;} \n",
    "    if(m_val>.25){c++;} if(m_val>.5){d++;} if(m_val>1){e++;} }END{print \"total\",a,b,c,d,e}' \\\n",
    "    OFS='\\t' \"$manorm_dir\"/*xls >> manorm.log\n",
    "awk -F '\\t' 'NR>1&&$5>0{m_val=$5; if(m_val>0){a++;} if(m_val>.1){b++;} \n",
    "    if(m_val>.25){c++;}if(m_val>.5){d++;} if(m_val>1){e++;} }END{print \"M > 0\",a,b,c,d,e}' \\\n",
    "    OFS='\\t' \"$manorm_dir\"/*xls >> manorm.log\n",
    "awk -F '\\t' 'NR>1&&$5<0{m_val=-$5; if(m_val>0){a++;} if(m_val>.1){b++;} \n",
    "    if(m_val>.25){c++;} if(m_val>.5){d++;} if(m_val>1){e++;} }END{print \"M < 0\",a,b,c,d,e}' \\\n",
    "    OFS='\\t' \"$manorm_dir\"/*xls >> manorm.log\n",
    "\n",
    "# move log with the rest of files\n",
    "mv manorm.log \"$manorm_dir\"\n",
    "\n",
    "echo \"$(( $(cat $manorm_dir/*xls | wc -l) - 1 )) combined peaks analyzed by MAnorm\"\n",
    "tail -4 $manorm_dir/manorm.log"
   ]
  },
  {
   "cell_type": "markdown",
   "metadata": {},
   "source": [
    "## 2 - Count ChIP-Seq reads on genomic bins \n",
    "For a sample-wise comparison of ChIP-Seq experiments as a Scatterplot, a previous step is to obtain read coverage on genomic bins. On this step, bam files of individual samples after removal of duplicated reads are used.\n"
   ]
  },
  {
   "cell_type": "code",
   "execution_count": 9,
   "metadata": {},
   "outputs": [],
   "source": [
    "# bam files are renamed to remove the history number (this step can be skipped)\n",
    "# A pattern is used to avoid targeting merged bam files\n",
    "for f in ${gal_wd}/chipseq*/bam_files/*[^d].bam; do mv $f $(echo $f | sed 's;/[0-9]\\{3\\}_;/;'); done"
   ]
  },
  {
   "cell_type": "code",
   "execution_count": 10,
   "metadata": {},
   "outputs": [
    {
     "name": "stdout",
     "output_type": "stream",
     "text": [
      "(samtools) (samtools) (samtools) (samtools) (samtools) (samtools) "
     ]
    }
   ],
   "source": [
    "# bam files are indexed with samtools.\n",
    "cd ${gal_wd}/chipseq1/bam_files/\n",
    "conda activate samtools\n",
    "\n",
    "for f in *bam; do samtools index ${f} ${f}.bai; done\n",
    "cd ${gal_wd}/chipseq2/bam_files/\n",
    "for f in *bam; do samtools index ${f} ${f}.bai; done\n",
    "\n",
    "conda deactivate"
   ]
  },
  {
   "cell_type": "code",
   "execution_count": 11,
   "metadata": {},
   "outputs": [
    {
     "name": "stdout",
     "output_type": "stream",
     "text": [
      "(deeptools) (deeptools) (deeptools) (deeptools) "
     ]
    }
   ],
   "source": [
    "# run multiBamSummary \n",
    "cd ${jup_wd}\n",
    "cpus=5\n",
    "conda activate deeptools\n",
    "\n",
    "multiBamSummary bins \\\n",
    " --bamfiles $(ls ${gal_wd}/chipseq*/bam_files/*[^d].bam) \\\n",
    " --binSize 1000 \\\n",
    " --numberOfProcessors ${cpus} \\\n",
    " -out ChIP_counts.npz \\\n",
    " --outRawCounts ChIP_counts.tab \\\n",
    " --scalingFactors ChIP_counts_sf.tab \\\n",
    " 2> ChIP_counts.log\n",
    " \n",
    "conda deactivate"
   ]
  },
  {
   "cell_type": "markdown",
   "metadata": {},
   "source": [
    "## 3 - Preparation for metagene plots and gene heatmaps\n",
    "A metagene plot is a representation that helps visualize the distribution of ChIP-Seq reads across genes. For normalization, we used both ChIP and INPUT files. These results are further explored on the following R notebook."
   ]
  },
  {
   "cell_type": "markdown",
   "metadata": {},
   "source": [
    "A FIRST RUN WITHOUT DRAWING\n",
    "is done to process the output and remove samples with no reads that were producing a weird band of no counts in our plots."
   ]
  },
  {
   "cell_type": "code",
   "execution_count": 14,
   "metadata": {},
   "outputs": [
    {
     "name": "stdout",
     "output_type": "stream",
     "text": [
      "Configuring variables...Done\n",
      "Loading R libraries.....Done\n",
      "Analyze bam files and calculate coverageWarning messages:\n",
      "1: In headerIndexBam(bam.list) :\n",
      "  Aligner for: /home/jovyan/work/galaxy-res/chipseq1/bam_files/241_2-MarkDupes_ChIP_merged.bam cannot be determined. Style of \n",
      "standard SAM mapping score will be used. Would you mind submitting an issue \n",
      "report to us on Github? This will benefit people using the same aligner.\n",
      "2: In headerIndexBam(bam.list) :\n",
      "  Aligner for: /home/jovyan/work/galaxy-res/chipseq1/bam_files/242_2-MarkDupes_INPUT_merged.bam cannot be determined. Style of \n",
      "standard SAM mapping score will be used. Would you mind submitting an issue \n",
      "report to us on Github? This will benefit people using the same aligner.\n",
      "Warning message:\n",
      "'isNotPrimaryRead' is deprecated.\n",
      "Use 'isSecondaryAlignment' instead.\n",
      "See help(\"Deprecated\") \n",
      "........Done\n",
      "Saving results...Done\n",
      "Wrapping results up...sh: 1: : Permission denied\n",
      "Warning message:\n",
      "In system2(zip, args, input = input) : error in running command\n",
      "Done\n",
      "All done. Cheers!\n",
      "Configuring variables...Done\n",
      "Loading R libraries.....Done\n",
      "Analyze bam files and calculate coverageWarning messages:\n",
      "1: In headerIndexBam(bam.list) :\n",
      "  Aligner for: /home/jovyan/work/galaxy-res/chipseq2/bam_files/234_2-MarkDupes_ChIP_merged.bam cannot be determined. Style of \n",
      "standard SAM mapping score will be used. Would you mind submitting an issue \n",
      "report to us on Github? This will benefit people using the same aligner.\n",
      "2: In headerIndexBam(bam.list) :\n",
      "  Aligner for: /home/jovyan/work/galaxy-res/chipseq2/bam_files/235_2-MarkDupes_INPUT_merged.bam cannot be determined. Style of \n",
      "standard SAM mapping score will be used. Would you mind submitting an issue \n",
      "report to us on Github? This will benefit people using the same aligner.\n",
      "Warning message:\n",
      "'isNotPrimaryRead' is deprecated.\n",
      "Use 'isSecondaryAlignment' instead.\n",
      "See help(\"Deprecated\") \n",
      "........Done\n",
      "Saving results...Done\n",
      "Wrapping results up...sh: 1: : Permission denied\n",
      "Warning message:\n",
      "In system2(zip, args, input = input) : error in running command\n",
      "Done\n",
      "All done. Cheers!\n"
     ]
    }
   ],
   "source": [
    "# setup\n",
    "ngsplot_dir=${jup_wd}/figures/ngsplot\n",
    "[ -d  $ngsplot_dir ] || mkdir -p $ngsplot_dir\n",
    "cd  $ngsplot_dir\n",
    "genes=~/work/lib/test_genome/genes.bed \n",
    "cpus=6\n",
    "\n",
    "# s1\n",
    "ngs.plot.r \\\n",
    "-P $cpus \\\n",
    "-G test \\\n",
    "-R bed \\\n",
    "-E \"$genes\" \\\n",
    "-C \"$bam_1\":\"$inp_1\" \\\n",
    "-O plot_genes_s1 \\\n",
    "-FI 1\n",
    "\n",
    "# s2\n",
    "ngs.plot.r \\\n",
    "-P $cpus \\\n",
    "-G test \\\n",
    "-R bed \\\n",
    "-E \"$genes\" \\\n",
    "-C \"$bam_2\":\"$inp_2\" \\\n",
    "-O plot_genes_s2 \\\n",
    "-FI 1\n"
   ]
  },
  {
   "cell_type": "code",
   "execution_count": null,
   "metadata": {},
   "outputs": [],
   "source": []
  }
 ],
 "metadata": {
  "kernelspec": {
   "display_name": "Bash",
   "language": "bash",
   "name": "bash"
  },
  "language_info": {
   "codemirror_mode": "shell",
   "file_extension": ".sh",
   "mimetype": "text/x-sh",
   "name": "bash"
  }
 },
 "nbformat": 4,
 "nbformat_minor": 4
}
