{
 "cells": [
  {
   "cell_type": "markdown",
   "metadata": {},
   "source": [
    "# After running R notebook\n",
    "On the R notebook, gene counts are categorized by expression level. Here, a metagene plot shows average mark levels on genes of each category. Three steps are taken:\n",
    "* plot of all marked genes\n",
    "   * Prepare bed files from each list with a provided bed annotation of gene models\n",
    "* plot of genes divided by expression\n",
    "   * Write a configuration file with paths to bam and bed files\n",
    "   * Run ngs.plot"
   ]
  },
  {
   "cell_type": "code",
   "execution_count": 1,
   "metadata": {},
   "outputs": [],
   "source": [
    "## setup\n",
    "jup_wd=~/work/jupyter-res\n",
    "gal_wd=~/work/galaxy-res\n",
    "bed_annot=~/work/lib/test_genome/genes.bed\n",
    "peak_caller=epic2\n",
    "cpus=6\n",
    "\n",
    "cd ${jup_wd}/figures/ngsplot"
   ]
  },
  {
   "cell_type": "code",
   "execution_count": 2,
   "metadata": {},
   "outputs": [],
   "source": [
    "## find input files on system\n",
    "bed_01=($(ls ${gal_wd}/chipseq1/*bed | grep -i \"${peak_caller}\"))\n",
    "bed_02=($(ls ${gal_wd}/chipseq2/*bed | grep -i \"${peak_caller}\"))\n",
    "\n",
    "bam_1=($(ls ${gal_wd}/chipseq1/bam_files/*merged.bam* | grep -i chip))\n",
    "inp_1=($(ls ${gal_wd}/chipseq1/bam_files/*merged.bam* | grep -i input))\n",
    "\n",
    "bam_2=($(ls ${gal_wd}/chipseq2/bam_files/*merged.bam* | grep -i chip))\n",
    "inp_2=($(ls ${gal_wd}/chipseq2/bam_files/*merged.bam* | grep -i input))"
   ]
  },
  {
   "cell_type": "markdown",
   "metadata": {},
   "source": [
    "## 1 - Plot of all marked genes\n",
    "A second run of ngs.plot with the genes processed to remove empty rows is done."
   ]
  },
  {
   "cell_type": "code",
   "execution_count": 3,
   "metadata": {},
   "outputs": [
    {
     "name": "stdout",
     "output_type": "stream",
     "text": [
      "Configuring variables...Done\n",
      "Loading R libraries.....Done\n",
      "Analyze bam files and calculate coverageWarning messages:\n",
      "1: In headerIndexBam(bam.list) :\n",
      "  Aligner for: /home/jovyan/work/galaxy-res/chipseq1/bam_files/240_2-MarkDupes_ChIP_merged.bam cannot be determined. Style of \n",
      "standard SAM mapping score will be used. Would you mind submitting an issue \n",
      "report to us on Github? This will benefit people using the same aligner.\n",
      "2: In headerIndexBam(bam.list) :\n",
      "  Aligner for: /home/jovyan/work/galaxy-res/chipseq1/bam_files/241_2-MarkDupes_INPUT_merged.bam cannot be determined. Style of \n",
      "standard SAM mapping score will be used. Would you mind submitting an issue \n",
      "report to us on Github? This will benefit people using the same aligner.\n",
      "Warning message:\n",
      "'isNotPrimaryRead' is deprecated.\n",
      "Use 'isSecondaryAlignment' instead.\n",
      "See help(\"Deprecated\") \n",
      "..Done\n",
      "Plotting figures...Done\n",
      "Saving results...Done\n",
      "Wrapping results up...sh: 1: : Permission denied\n",
      "Warning message:\n",
      "In system2(zip, args, input = input) : error in running command\n",
      "Done\n",
      "All done. Cheers!\n",
      "Configuring variables...Done\n",
      "Loading R libraries.....Done\n",
      "Analyze bam files and calculate coverageWarning messages:\n",
      "1: In headerIndexBam(bam.list) :\n",
      "  Aligner for: /home/jovyan/work/galaxy-res/chipseq2/bam_files/234_2-MarkDupes_ChIP_merged.bam cannot be determined. Style of \n",
      "standard SAM mapping score will be used. Would you mind submitting an issue \n",
      "report to us on Github? This will benefit people using the same aligner.\n",
      "2: In headerIndexBam(bam.list) :\n",
      "  Aligner for: /home/jovyan/work/galaxy-res/chipseq2/bam_files/235_2-MarkDupes_INPUT_merged.bam cannot be determined. Style of \n",
      "standard SAM mapping score will be used. Would you mind submitting an issue \n",
      "report to us on Github? This will benefit people using the same aligner.\n",
      "Warning message:\n",
      "'isNotPrimaryRead' is deprecated.\n",
      "Use 'isSecondaryAlignment' instead.\n",
      "See help(\"Deprecated\") \n",
      "..Done\n",
      "Plotting figures...Done\n",
      "Saving results...Done\n",
      "Wrapping results up...sh: 1: : Permission denied\n",
      "Warning message:\n",
      "In system2(zip, args, input = input) : error in running command\n",
      "Done\n",
      "All done. Cheers!\n"
     ]
    }
   ],
   "source": [
    "## sample 1\n",
    "ngs.plot.r \\\n",
    "-P $cpus \\\n",
    "-G test \\\n",
    "-R bed \\\n",
    "-E epic2_marked_genes_1.bed \\\n",
    "-C \"$bam_1\":\"$inp_1\" \\\n",
    "-T \"\" \\\n",
    "-IN 1 \\\n",
    "-O filtgenes_1 \\\n",
    "-FS 20 \\\n",
    "-SE 1 -LEG 0 \\\n",
    "-RR 5 \\\n",
    "-CD 0.7 -CO darkred:yellow:darkgreen\n",
    "\n",
    "## sample 2\n",
    "ngs.plot.r \\\n",
    "-P $cpus \\\n",
    "-G test \\\n",
    "-R bed \\\n",
    "-E epic2_marked_genes_2.bed \\\n",
    "-C \"$bam_2\":\"$inp_2\" \\\n",
    "-T \"\" \\\n",
    "-O filtgenes_2 \\\n",
    "-FS 20 \\\n",
    "-SE 1 -LEG 0 \\\n",
    "-CD 0.7 -CO darkred:yellow:darkgreen \\\n",
    "-RR 5 -RB 0.05"
   ]
  },
  {
   "cell_type": "markdown",
   "metadata": {},
   "source": [
    "## 2 - Plot of genes divided by expression\n",
    "The files created with genes divided by expression category are used to write configuration files and plot."
   ]
  },
  {
   "cell_type": "code",
   "execution_count": 4,
   "metadata": {},
   "outputs": [],
   "source": [
    "# prepare bed files\n",
    "gene_path=${jup_wd}/gene_expr_lists\n",
    "for f in \"${gene_path}\"/*txt; do \n",
    "    join -2 4 -o 2.{1..4} -t $'\\t' $f <(sort -k4 ${bed_annot}) > ${f/txt/bed}; \n",
    "done"
   ]
  },
  {
   "cell_type": "code",
   "execution_count": 5,
   "metadata": {},
   "outputs": [],
   "source": [
    "s1=sample1\n",
    "s2=sample2\n",
    "\n",
    "# write config file for sample 1\n",
    "echo '# base command: ngs.plot.r -G test -R bed -C config_1.txt -O plotBYexpr-sample1 -P 6 -FL 300 -IN 1 -FS 10 -WD 5 -HG 5 -SE 1' > config_\"$s1\".txt\n",
    "echo '# Use TAB to separate the three columns: coverage file<TAB>gene list<TAB>title' >> config_\"$s1\".txt\n",
    "echo '# \"title\" will be shown in the figure legend.' >> config_\"$s1\".txt\n",
    "echo -e \"$bam_1:$inp_1\\t\"${gene_path}\"/\"$s1\".high.bed\\t'High'\" >> config_\"$s1\".txt\n",
    "echo -e \"$bam_1:$inp_1\\t\"${gene_path}\"/\"$s1\".medium.bed\\t'Medium'\" >> config_\"$s1\".txt\n",
    "echo -e \"$bam_1:$inp_1\\t\"${gene_path}\"/\"$s1\".low.bed\\t'Low'\" >> config_\"$s1\".txt\n",
    "echo -e \"$bam_1:$inp_1\\t\"${gene_path}\"/\"$s1\".no_expr.bed\\t'No expr'\" >> config_\"$s1\".txt\n",
    "\n",
    "# write config file for sample 2\n",
    "echo '# base command: ngs.plot.r -G test -R bed -C config_2.txt -O plotBYexpr-sample2 -P 6 -FL 300 -IN 1 -FS 10 -WD 5 -HG 5 -SE 1' > config_\"$s2\".txt\n",
    "echo '# Use TAB to separate the three columns: coverage file<TAB>gene list<TAB>title' >> config_\"$s2\".txt\n",
    "echo '# \"title\" will be shown in the figure legend.' >> config_\"$s2\".txt\n",
    "echo -e \"$bam_2:$inp_2\\t\"${gene_path}\"/\"$s2\".high.bed\\t'High'\" >> config_\"$s2\".txt\n",
    "echo -e \"$bam_2:$inp_2\\t\"${gene_path}\"/\"$s2\".medium.bed\\t'Medium'\" >> config_\"$s2\".txt\n",
    "echo -e \"$bam_2:$inp_2\\t\"${gene_path}\"/\"$s2\".low.bed\\t'Low'\" >> config_\"$s2\".txt\n",
    "echo -e \"$bam_2:$inp_2\\t\"${gene_path}\"/\"$s2\".no_expr.bed\\t'No expr'\" >> config_\"$s2\".txt"
   ]
  },
  {
   "cell_type": "code",
   "execution_count": 6,
   "metadata": {},
   "outputs": [
    {
     "name": "stdout",
     "output_type": "stream",
     "text": [
      "Configuring variables...Done\n",
      "Loading R libraries.....Done\n",
      "Analyze bam files and calculate coverageWarning messages:\n",
      "1: In headerIndexBam(bam.list) :\n",
      "  Aligner for: /home/jovyan/work/galaxy-res/chipseq1/bam_files/240_2-MarkDupes_ChIP_merged.bam cannot be determined. Style of \n",
      "standard SAM mapping score will be used. Would you mind submitting an issue \n",
      "report to us on Github? This will benefit people using the same aligner.\n",
      "2: In headerIndexBam(bam.list) :\n",
      "  Aligner for: /home/jovyan/work/galaxy-res/chipseq1/bam_files/241_2-MarkDupes_INPUT_merged.bam cannot be determined. Style of \n",
      "standard SAM mapping score will be used. Would you mind submitting an issue \n",
      "report to us on Github? This will benefit people using the same aligner.\n",
      "Warning message:\n",
      "'isNotPrimaryRead' is deprecated.\n",
      "Use 'isSecondaryAlignment' instead.\n",
      "See help(\"Deprecated\") \n",
      "..........Done\n",
      "Plotting figures...Done\n",
      "Saving results...Done\n",
      "Wrapping results up...sh: 1: : Permission denied\n",
      "Warning message:\n",
      "In system2(zip, args, input = input) : error in running command\n",
      "Done\n",
      "All done. Cheers!\n",
      "Configuring variables...Done\n",
      "Loading R libraries.....Done\n",
      "Analyze bam files and calculate coverageWarning messages:\n",
      "1: In headerIndexBam(bam.list) :\n",
      "  Aligner for: /home/jovyan/work/galaxy-res/chipseq2/bam_files/234_2-MarkDupes_ChIP_merged.bam cannot be determined. Style of \n",
      "standard SAM mapping score will be used. Would you mind submitting an issue \n",
      "report to us on Github? This will benefit people using the same aligner.\n",
      "2: In headerIndexBam(bam.list) :\n",
      "  Aligner for: /home/jovyan/work/galaxy-res/chipseq2/bam_files/235_2-MarkDupes_INPUT_merged.bam cannot be determined. Style of \n",
      "standard SAM mapping score will be used. Would you mind submitting an issue \n",
      "report to us on Github? This will benefit people using the same aligner.\n",
      "Warning message:\n",
      "'isNotPrimaryRead' is deprecated.\n",
      "Use 'isSecondaryAlignment' instead.\n",
      "See help(\"Deprecated\") \n",
      "..........Done\n",
      "Plotting figures...Done\n",
      "Saving results...Done\n",
      "Wrapping results up...sh: 1: : Permission denied\n",
      "Warning message:\n",
      "In system2(zip, args, input = input) : error in running command\n",
      "Done\n",
      "All done. Cheers!\n"
     ]
    }
   ],
   "source": [
    "## run ngs.plot\n",
    "for f in config*\n",
    "do\n",
    "    s=$(sed 's;config_;;' <(echo ${f%%.txt}))\n",
    "    ngs.plot.r \\\n",
    "    -G test \\\n",
    "    -R bed \\\n",
    "    -C $f \\\n",
    "    -O plotBYexpr-\"$s\" \\\n",
    "    -P $cpus \\\n",
    "    -FL 300 \\\n",
    "    -IN 1 \\\n",
    "    -FS 10 -WD 5 -HG 5 \\\n",
    "    -SE 1\n",
    "done"
   ]
  },
  {
   "cell_type": "code",
   "execution_count": null,
   "metadata": {},
   "outputs": [],
   "source": []
  }
 ],
 "metadata": {
  "kernelspec": {
   "display_name": "Bash",
   "language": "bash",
   "name": "bash"
  },
  "language_info": {
   "codemirror_mode": "shell",
   "file_extension": ".sh",
   "mimetype": "text/x-sh",
   "name": "bash"
  }
 },
 "nbformat": 4,
 "nbformat_minor": 4
}
