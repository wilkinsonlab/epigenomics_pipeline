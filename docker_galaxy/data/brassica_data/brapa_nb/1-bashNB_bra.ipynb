{
 "cells": [
  {
   "cell_type": "markdown",
   "metadata": {},
   "source": [
    "# Steps to continue data analysis after Galaxy\n",
    "\n",
    "The starting point of this notebook is after mapping and predicting peaks on ChIP-seq data, to estimate differential peak binding."
   ]
  },
  {
   "cell_type": "code",
   "execution_count": 1,
   "metadata": {},
   "outputs": [],
   "source": [
    "## setup working directory\n",
    "jup_wd=~/work/jupyter-res\n",
    "gal_wd=~/work/galaxy-res\n",
    "\n",
    "[ ! -d ${jup_wd} ] && mkdir ${jup_wd}/{figures}\n",
    "cd ${jup_wd}"
   ]
  },
  {
   "cell_type": "markdown",
   "metadata": {},
   "source": [
    "### Gather files\n",
    "Galaxy exports several files to a results directory. For the next steps, bed and bam files are used."
   ]
  },
  {
   "cell_type": "code",
   "execution_count": 2,
   "metadata": {},
   "outputs": [],
   "source": [
    "peak_caller=epic2\n",
    "\n",
    "## find input files on system\n",
    "bed_01=($(ls ~/work/galaxy-res/chipseq1/*bed | grep -i \"${peak_caller}\"))\n",
    "bed_02=($(ls ~/work/galaxy-res/chipseq2/*bed | grep -i \"${peak_caller}\"))\n",
    "\n",
    "bam_1=($(ls ~/work/galaxy-res/chipseq1/bam_files/*merged.bam* | grep -i chip))\n",
    "inp_1=($(ls ~/work/galaxy-res/chipseq1/bam_files/*merged.bam* | grep -i input))\n",
    "\n",
    "bam_2=($(ls ~/work/galaxy-res/chipseq2/bam_files/*merged.bam* | grep -i chip))\n",
    "inp_2=($(ls ~/work/galaxy-res/chipseq2/bam_files/*merged.bam* | grep -i input))"
   ]
  },
  {
   "cell_type": "markdown",
   "metadata": {},
   "source": [
    "### Analysis of differentially marked regions\n",
    "\n",
    "Peak calling was performed comparing ChIP alignments against INPUT samples. A fold change indicates the variation between them both. Before running differential binding analysis, we applied a filter of FC > 1 (ChIP over INPUT) to enrich in better defined peaks. To remove this filter, set `min_pk_fc=0`. Additionally,peaks within scaffolds that contained non-nuclear sequences were removed. Thus, the steps followed are:\n",
    "* Filter epic2 peaks\n",
    "* Run MAnorm"
   ]
  },
  {
   "cell_type": "markdown",
   "metadata": {},
   "source": [
    "#### Filter epic2 results\n",
    "First, the remaining largest peaks after filtering by FC and gene origin are visualized on IGV."
   ]
  },
  {
   "cell_type": "code",
   "execution_count": 3,
   "metadata": {},
   "outputs": [],
   "source": [
    "scaf_list=~/work/lib/brapa_genome/nuclear_scaff.txt\n",
    "min_pk_fc=1"
   ]
  },
  {
   "cell_type": "code",
   "execution_count": 4,
   "metadata": {},
   "outputs": [
    {
     "name": "stdout",
     "output_type": "stream",
     "text": [
      "island_15025\t84400\tScaffold0276\t12000\t96399\n",
      "island_1906\t43800\tA02\t5991800\t6035599\n",
      "island_6749\t31600\tA05\t1188400\t1219999\n",
      "island_13965\t31200\tA09\t43780000\t43811199\n",
      "island_2067\t30000\tA02\t8235200\t8265199\n"
     ]
    }
   ],
   "source": [
    "# leaves\n",
    "awk -v fc=$min_pk_fc '$7>fc{print $4,$3-$2+1,$1,$2,$3}' OFS='\\t' \\\n",
    "   <(join -t$'\\t' $scaf_list <(sort $bed_01)) | sort -k2rn 2>/dev/null | head -5"
   ]
  },
  {
   "cell_type": "code",
   "execution_count": 5,
   "metadata": {},
   "outputs": [
    {
     "name": "stdout",
     "output_type": "stream",
     "text": [
      "island_4572\t12000\tA03\t22574400\t22586399\n",
      "island_4698\t9400\tA03\t24657800\t24667199\n",
      "island_15554\t8800\tA10\t17663400\t17672199\n",
      "island_10364\t8600\tA07\t16591400\t16599999\n",
      "island_10441\t8400\tA07\t18497000\t18505399\n"
     ]
    }
   ],
   "source": [
    "# inflorescences\n",
    "awk -v fc=$min_pk_fc '$7>fc{print $4,$3-$2+1,$1,$2,$3}' OFS='\\t' \\\n",
    "   <(join -t$'\\t' $scaf_list <(sort $bed_02)) | sort -k2rn 2>/dev/null | head -5"
   ]
  },
  {
   "cell_type": "markdown",
   "metadata": {},
   "source": [
    "Most noisy peaks are removed when filtering for fold-change and non-nuclear scaffolds. One peak on the first sample will be removed manually. The second sample did not require additional filtering."
   ]
  },
  {
   "cell_type": "code",
   "execution_count": 6,
   "metadata": {},
   "outputs": [],
   "source": [
    "pk2rm_1=(island_15025)\n",
    "bed_1=\"${bed_01/.bed/_filt.bed}\"\n",
    "bed_2=\"${bed_02/.bed/_filt.bed}\"\n",
    "\n",
    "awk -v fc=$min_pk_fc 'FNR==NR{a[$1];next;} $7>fc{if($4 in a == 0) {print $0}}' \\\n",
    "   RS=' ' <(echo ${pk2rm_1[@]}) \\\n",
    "   RS='\\n' <(join -t$'\\t' $scaf_list <(sort $bed_01)) \\\n",
    "   > ${bed_1}\n",
    "\n",
    "awk -v fc=$min_pk_fc '$7>fc{print $0}' OFS='\\t' \\\n",
    "   <(join -t$'\\t' $scaf_list <(sort $bed_02)) \\\n",
    "   > ${bed_2}"
   ]
  },
  {
   "cell_type": "code",
   "execution_count": 7,
   "metadata": {},
   "outputs": [
    {
     "name": "stdout",
     "output_type": "stream",
     "text": [
      "15140 /home/jovyan/work/galaxy-res/chipseq1/epic2_peaks.bed\n",
      "9058 /home/jovyan/work/galaxy-res/chipseq1/epic2_peaks_filt.bed\n",
      "21397 /home/jovyan/work/galaxy-res/chipseq2/epic2_peaks.bed\n",
      "8722 /home/jovyan/work/galaxy-res/chipseq2/epic2_peaks_filt.bed\n"
     ]
    }
   ],
   "source": [
    "# number of peaks before and after filtering\n",
    "for bed in $bed_01 $bed_1 $bed_02 $bed_2\n",
    "do\n",
    "    wc -l $bed\n",
    "done"
   ]
  },
  {
   "cell_type": "markdown",
   "metadata": {},
   "source": [
    "#### MAnorm \n",
    "The filtered peak results were compared between the two samples. MAnorm uses only ChIP files and compares them on a M-A plot to determine differentially marked regions. "
   ]
  },
  {
   "cell_type": "code",
   "execution_count": 8,
   "metadata": {},
   "outputs": [],
   "source": [
    "sample_1=leaf\n",
    "sample_2=infl\n",
    "manorm_dir=manorm-\"$sample_1\"VS\"$sample_2\"\n",
    "\n",
    "manorm \\\n",
    "--peak1 \"$bed_1\" \\\n",
    "--peak2 \"$bed_2\" \\\n",
    "--peak-format bed \\\n",
    "--read1 \"$bam_1\" \\\n",
    "--read2 \"$bam_2\" \\\n",
    "--read-format bam \\\n",
    "--name1 \"$sample_1\" \\\n",
    "--name2 \"$sample_2\" \\\n",
    "--paired-end \\\n",
    "-o \"$manorm_dir\" \\\n",
    "2> manorm.log"
   ]
  },
  {
   "cell_type": "markdown",
   "metadata": {},
   "source": [
    "#### Add some stats to manorm log and move it to folder"
   ]
  },
  {
   "cell_type": "code",
   "execution_count": 9,
   "metadata": {},
   "outputs": [
    {
     "name": "stdout",
     "output_type": "stream",
     "text": [
      "10726 combined peaks analyzed by MAnorm\n",
      "# peaks\tM>0.1\tM>0.25\tM>0.5\tM>1\n",
      "total\t9718\t8238\t5986\t3199\n",
      "M > 0\t5949\t5214\t4018\t2408\n",
      "M < 0\t3769\t3024\t1968\t791\n"
     ]
    }
   ],
   "source": [
    "echo -e \"\\n# peaks\\tM>0.1\\tM>0.25\\tM>0.5\\tM>1\" >> manorm.log\n",
    "awk -F '\\t' 'NR>1{m_val=sqrt($5^2); if(m_val>.1){a++;} if(m_val>.25){b++;} if(m_val>.5){c++;} if(m_val>1){d++;} }END{print \"total\",a,b,c,d}' OFS='\\t' \"$manorm_dir\"/*xls >> manorm.log\n",
    "awk -F '\\t' 'NR>1&&$5>0{m_val=$5; if(m_val>.1){a++;} if(m_val>.25){b++;} if(m_val>.5){c++;} if(m_val>1){d++;} }END{print \"M > 0\",a,b,c,d}' OFS='\\t' \"$manorm_dir\"/*xls >> manorm.log\n",
    "awk -F '\\t' 'NR>1&&$5<0{m_val=-$5; if(m_val>.1){a++;} if(m_val>.25){b++;} if(m_val>.5){c++;} if(m_val>1){d++;} }END{print \"M < 0\",a,b,c,d}' OFS='\\t' \"$manorm_dir\"/*xls >> manorm.log\n",
    "\n",
    "mv manorm.log \"$manorm_dir\"\n",
    "\n",
    "echo \"$(( $(cat $manorm_dir/*xls | wc -l) - 1 )) combined peaks analyzed by MAnorm\"\n",
    "tail -4 $manorm_dir/manorm.log"
   ]
  },
  {
   "cell_type": "markdown",
   "metadata": {},
   "source": [
    "## ChIP-seq read counts on bins for Scatterplot\n",
    "For comparison of ChIP-seq experiments, coverage on selected genomic bins is calculated to be used for sample-wise visual representation and calculation of correlation. Alignment files and indexes of desired samples to plot are downloaded and renamed manually into their corresponding analysis folder. Note: index files are `sample.bai`."
   ]
  },
  {
   "cell_type": "code",
   "execution_count": null,
   "metadata": {},
   "outputs": [],
   "source": [
    "# bam files are renamed to remove the history number (this step can be skipped)\n",
    "# A pattern is used to avoid targeting merged bam files\n",
    "for f in ${gal_wd}/chipseq*/bam_files/*[^d].bam; do mv $f $(echo $f | sed 's;/[0-9]\\{3\\}_;/;'); done"
   ]
  },
  {
   "cell_type": "code",
   "execution_count": 10,
   "metadata": {},
   "outputs": [
    {
     "name": "stdout",
     "output_type": "stream",
     "text": [
      "/home/jovyan/work/galaxy-res/chipseq1/leaf_C1.bam\n",
      "/home/jovyan/work/galaxy-res/chipseq1/leaf_C3.bam\n",
      "/home/jovyan/work/galaxy-res/chipseq1/leaf_I1.bam\n",
      "/home/jovyan/work/galaxy-res/chipseq1/leaf_I3.bam\n",
      "/home/jovyan/work/galaxy-res/chipseq2/infl_C1.bam\n",
      "/home/jovyan/work/galaxy-res/chipseq2/infl_I1.bam\n"
     ]
    }
   ],
   "source": [
    "ls ~/work/galaxy-res/chipseq*/*[^d].bam*"
   ]
  },
  {
   "cell_type": "code",
   "execution_count": null,
   "metadata": {},
   "outputs": [],
   "source": [
    "# bam files are indexed with samtools.\n",
    "cd ${gal_wd}/chipseq1/bam_files/\n",
    "conda activate samtools\n",
    "\n",
    "for f in *bam; do samtools index ${f} ${f}.bai; done\n",
    "cd ${gal_wd}/chipseq2/bam_files/\n",
    "for f in *bam; do samtools index ${f} ${f}.bai; done\n",
    "\n",
    "conda deactivate"
   ]
  },
  {
   "cell_type": "code",
   "execution_count": 11,
   "metadata": {},
   "outputs": [
    {
     "name": "stdout",
     "output_type": "stream",
     "text": [
      "(deeptools) (deeptools) (deeptools) (deeptools) "
     ]
    }
   ],
   "source": [
    "cpus=5\n",
    "conda activate deeptools\n",
    "\n",
    "multiBamSummary bins \\\n",
    " --bamfiles $(ls ~/work/galaxy-res/chipseq*/*[^d].bam*) \\\n",
    " --binSize 10000 \\\n",
    " --numberOfProcessors ${cpus} \\\n",
    " -out ChIP_counts.npz \\\n",
    " --outRawCounts ChIP_counts.tab \\\n",
    " --scalingFactors ChIP_cnt_sf.tab \\\n",
    " 2> log_multibam.err\n",
    " \n",
    "conda deactivate"
   ]
  },
  {
   "cell_type": "markdown",
   "metadata": {},
   "source": [
    "### Draw metagene plot and gene heatmap\n",
    "A metagene plot helps visualize the distribution of mark across genes. For normalization, we used both ChIP and INPUT files."
   ]
  },
  {
   "cell_type": "markdown",
   "metadata": {},
   "source": [
    "FIRST RUN WITHOUT DRAWING"
   ]
  },
  {
   "cell_type": "code",
   "execution_count": 12,
   "metadata": {},
   "outputs": [
    {
     "name": "stdout",
     "output_type": "stream",
     "text": [
      "Configuring variables...Done\n",
      "Loading R libraries.....Done\n",
      "Analyze bam files and calculate coverageWarning message:\n",
      "In headerIndexBam(bam.list) :\n",
      "  Aligner for: /home/jovyan/work/galaxy-res/chipseq1/2-MarkDupes_INPUT_merged.bam cannot be determined. Style of \n",
      "standard SAM mapping score will be used. Would you mind submitting an issue \n",
      "report to us on Github? This will benefit people using the same aligner.\n",
      "Warning message:\n",
      "'isNotPrimaryRead' is deprecated.\n",
      "Use 'isSecondaryAlignment' instead.\n",
      "See help(\"Deprecated\") \n",
      "..............................................................................................................................................................................................................................................................................................................................................................................................................................................................................................................................................................................................................................................................................................................................................................................................................................................................................................................................................................Done\n",
      "Saving results...Done\n",
      "Wrapping results up...sh: 1: : Permission denied\n",
      "Warning message:\n",
      "In system2(zip, args) : error in running command\n",
      "Done\n",
      "All done. Cheers!\n",
      "Configuring variables...Done\n",
      "Loading R libraries.....Done\n",
      "Analyze bam files and calculate coverageWarning message:\n",
      "'isNotPrimaryRead' is deprecated.\n",
      "Use 'isSecondaryAlignment' instead.\n",
      "See help(\"Deprecated\") \n",
      "..............................................................................................................................................................................................................................................................................................................................................................................................................................................................................................................................................................................................................................................................................................................................................................................................................................................................................................................................................................Done\n",
      "Saving results...Done\n",
      "Wrapping results up...sh: 1: : Permission denied\n",
      "Warning message:\n",
      "In system2(zip, args) : error in running command\n",
      "Done\n",
      "All done. Cheers!\n"
     ]
    }
   ],
   "source": [
    "[ -d  ~/work/jupyter-res/ngsplot ] || mkdir ~/work/jupyter-res/ngsplot && cd  ~/work/jupyter-res/ngsplot\n",
    "genes=~/work/lib/brapa_genome/Bra_3.0_genes.bed \n",
    "cpus=6\n",
    "\n",
    "# leaves\n",
    "ngs.plot.r \\\n",
    "-P $cpus \\\n",
    "-G Bra3.0 \\\n",
    "-R bed \\\n",
    "-E \"$genes\" \\\n",
    "-C \"$bam_1\":\"$inp_1\" \\\n",
    "-O allgenes_leaf \\\n",
    "-FI 1\n",
    "\n",
    "# inflorescences\n",
    "ngs.plot.r \\\n",
    "-P $cpus \\\n",
    "-G Bra3.0 \\\n",
    "-R bed \\\n",
    "-E \"$genes\" \\\n",
    "-C \"$bam_2\":\"$inp_2\" \\\n",
    "-O allgenes_infl \\\n",
    "-FI 1\n",
    "\n",
    "rm 2-*"
   ]
  },
  {
   "cell_type": "markdown",
   "metadata": {},
   "source": [
    "# After running R notebook\n",
    "On the R notebook, gene counts are categorized by expression level. Here, a metagene plot shows average mark levels on genes of each category. Three steps are taken:\n",
    "* Prepare bed files from each list with a provided bed annotation of gene models\n",
    "* Write a configuration file with paths to bam and bed files\n",
    "* Run ngs.plot"
   ]
  },
  {
   "cell_type": "markdown",
   "metadata": {},
   "source": [
    "SECOND RUN FILTERED GENES"
   ]
  },
  {
   "cell_type": "code",
   "execution_count": 13,
   "metadata": {},
   "outputs": [
    {
     "name": "stdout",
     "output_type": "stream",
     "text": [
      "Configuring variables...Done\n",
      "Loading R libraries.....Done\n",
      "Analyze bam files and calculate coverageWarning message:\n",
      "In headerIndexBam(bam.list) :\n",
      "  Aligner for: /home/jovyan/work/galaxy-res/chipseq1/2-MarkDupes_INPUT_merged.bam cannot be determined. Style of \n",
      "standard SAM mapping score will be used. Would you mind submitting an issue \n",
      "report to us on Github? This will benefit people using the same aligner.\n",
      "Warning message:\n",
      "'isNotPrimaryRead' is deprecated.\n",
      "Use 'isSecondaryAlignment' instead.\n",
      "See help(\"Deprecated\") \n",
      "..........................................................................................................................................................................................................................................................Done\n",
      "Plotting figures...Done\n",
      "Saving results...Done\n",
      "Wrapping results up...sh: 1: : Permission denied\n",
      "Warning message:\n",
      "In system2(zip, args) : error in running command\n",
      "Done\n",
      "All done. Cheers!\n",
      "Configuring variables...Done\n",
      "Loading R libraries.....Done\n",
      "Analyze bam files and calculate coverageWarning message:\n",
      "'isNotPrimaryRead' is deprecated.\n",
      "Use 'isSecondaryAlignment' instead.\n",
      "See help(\"Deprecated\") \n",
      "....................................................................................................................................................................................................................Done\n",
      "Plotting figures...Done\n",
      "Saving results...Done\n",
      "Wrapping results up...sh: 1: : Permission denied\n",
      "Warning message:\n",
      "In system2(zip, args) : error in running command\n",
      "Done\n",
      "All done. Cheers!\n"
     ]
    }
   ],
   "source": [
    "cd  ~/work/jupyter-res/ngsplot\n",
    "cpus=6\n",
    "\n",
    "## leaves\n",
    "ngs.plot.r \\\n",
    "-P $cpus \\\n",
    "-G Bra3.0 \\\n",
    "-R bed \\\n",
    "-E epic2_marked_genes_LF.bed \\\n",
    "-C \"$bam_1\":\"$inp_1\" \\\n",
    "-T \"\" \\\n",
    "-IN 1 \\\n",
    "-O filtgenes_leaf \\\n",
    "-FS 20 \\\n",
    "-SE 1 -LEG 0 \\\n",
    "-RR 50 \\\n",
    "-CD 0.7 -CO darkred:yellow:darkgreen\n",
    "\n",
    "## inflorescences\n",
    "ngs.plot.r \\\n",
    "-P $cpus \\\n",
    "-G Bra3.0 \\\n",
    "-R bed \\\n",
    "-E epic2_marked_genes_FL.bed \\\n",
    "-C \"$bam_2\":\"$inp_2\" \\\n",
    "-T \"\" \\\n",
    "-O filtgenes_infl \\\n",
    "-FS 20 \\\n",
    "-SE 1 -LEG 0 \\\n",
    "-CD 0.7 -CO darkred:yellow:darkgreen \\\n",
    "-RR 45 -RB 0.05"
   ]
  },
  {
   "cell_type": "markdown",
   "metadata": {},
   "source": [
    "RUN BY GENE EXPRESSION"
   ]
  },
  {
   "cell_type": "code",
   "execution_count": 14,
   "metadata": {},
   "outputs": [],
   "source": [
    "# prepare bed files\n",
    "gene_path=~/work/jupyter-res/gene_lists\n",
    "for f in \"${gene_path}\"/*txt; do \n",
    "    join -2 4 -o 2.{1..6} -t $'\\t' $f ~/work/lib/brapa_genome/Bra_3.0_genes.bed > ${f/txt/bed}; \n",
    "done"
   ]
  },
  {
   "cell_type": "code",
   "execution_count": 15,
   "metadata": {},
   "outputs": [],
   "source": [
    "# write config file leaves\n",
    "echo '# base command: ngs.plot.r -G Bra3.0 -R bed -C config_leaves.txt -O leaves -P 6 -FL 300 -IN 1 -FS 10 -WD 5 -HG 5 -SE 1' > config_leaves.txt\n",
    "echo '# Use TAB to separate the three columns: coverage file<TAB>gene list<TAB>title' >> config_leaves.txt\n",
    "echo '# \"title\" will be shown in the figure legend.' >> config_leaves.txt\n",
    "echo -e \"$bam_1:$inp_1\\t\"${gene_path}\"/leaf.high.bed\\t'High'\" >> config_leaves.txt\n",
    "echo -e \"$bam_1:$inp_1\\t\"${gene_path}\"/leaf.medium.bed\\t'Medium'\" >> config_leaves.txt\n",
    "echo -e \"$bam_1:$inp_1\\t\"${gene_path}\"/leaf.low.bed\\t'Low'\" >> config_leaves.txt\n",
    "echo -e \"$bam_1:$inp_1\\t\"${gene_path}\"/leaf.no_expr.bed\\t'No expr'\" >> config_leaves.txt\n",
    "\n",
    "# write config file infl\n",
    "echo '# base command: ngs.plot.r -G Bra3.0 -R bed -C config_infl.txt -O infl -P 6 -FL 300 -IN 1 -FS 10 -WD 5 -HG 5 -SE 1' > config_infl.txt\n",
    "echo '# Use TAB to separate the three columns: coverage file<TAB>gene list<TAB>title' >> config_infl.txt\n",
    "echo '# \"title\" will be shown in the figure legend.' >> config_infl.txt\n",
    "echo -e \"$bam_2:$inp_2\\t\"${gene_path}\"/infl.high.bed\\t'High'\" >> config_infl.txt\n",
    "echo -e \"$bam_2:$inp_2\\t\"${gene_path}\"/infl.medium.bed\\t'Medium'\" >> config_infl.txt\n",
    "echo -e \"$bam_2:$inp_2\\t\"${gene_path}\"/infl.low.bed\\t'Low'\" >> config_infl.txt\n",
    "echo -e \"$bam_2:$inp_2\\t\"${gene_path}\"/infl.no_expr.bed\\t'No expr'\" >> config_infl.txt"
   ]
  },
  {
   "cell_type": "code",
   "execution_count": 16,
   "metadata": {},
   "outputs": [
    {
     "name": "stdout",
     "output_type": "stream",
     "text": [
      "Configuring variables...Done\n",
      "Loading R libraries.....Done\n",
      "Analyze bam files and calculate coverageWarning message:\n",
      "'isNotPrimaryRead' is deprecated.\n",
      "Use 'isSecondaryAlignment' instead.\n",
      "See help(\"Deprecated\") \n",
      "................................................................................................................................................................................................................................................................................................................................................................................................................................................................................................................................................................................................................................................................................................................................................................................................................................................................................................................................................................Done\n",
      "Plotting figures...Done\n",
      "Saving results...Done\n",
      "Wrapping results up...sh: 1: : Permission denied\n",
      "Warning message:\n",
      "In system2(zip, args) : error in running command\n",
      "Done\n",
      "All done. Cheers!\n",
      "Configuring variables...Done\n",
      "Loading R libraries.....Done\n",
      "Analyze bam files and calculate coverageWarning message:\n",
      "In headerIndexBam(bam.list) :\n",
      "  Aligner for: /home/jovyan/work/galaxy-res/chipseq1/2-MarkDupes_INPUT_merged.bam cannot be determined. Style of \n",
      "standard SAM mapping score will be used. Would you mind submitting an issue \n",
      "report to us on Github? This will benefit people using the same aligner.\n",
      "Warning message:\n",
      "'isNotPrimaryRead' is deprecated.\n",
      "Use 'isSecondaryAlignment' instead.\n",
      "See help(\"Deprecated\") \n",
      "................................................................................................................................................................................................................................................................................................................................................................................................................................................................................................................................................................................................................................................................................................................................................................................................................................................................................................................................................................Done\n",
      "Plotting figures...Done\n",
      "Saving results...Done\n",
      "Wrapping results up...sh: 1: : Permission denied\n",
      "Warning message:\n",
      "In system2(zip, args) : error in running command\n",
      "Done\n",
      "All done. Cheers!\n"
     ]
    }
   ],
   "source": [
    "cpus=6\n",
    "\n",
    "## run ngs.plot\n",
    "for f in config*\n",
    "do\n",
    "    s=$(sed 's;config_;;' <(echo ${f%%.txt}))\n",
    "    ngs.plot.r \\\n",
    "    -G Bra3.0 \\\n",
    "    -R bed \\\n",
    "    -C $f \\\n",
    "    -O plot-\"$s\"BYexpr \\\n",
    "    -P $cpus \\\n",
    "    -FL 300 \\\n",
    "    -IN 1 \\\n",
    "    -FS 10 -WD 5 -HG 5 \\\n",
    "    -SE 1\n",
    "done"
   ]
  },
  {
   "cell_type": "code",
   "execution_count": null,
   "metadata": {},
   "outputs": [],
   "source": []
  }
 ],
 "metadata": {
  "kernelspec": {
   "display_name": "Bash",
   "language": "bash",
   "name": "bash"
  },
  "language_info": {
   "codemirror_mode": "shell",
   "file_extension": ".sh",
   "mimetype": "text/x-sh",
   "name": "bash"
  }
 },
 "nbformat": 4,
 "nbformat_minor": 4
}
